{
  "nbformat": 4,
  "nbformat_minor": 0,
  "metadata": {
    "colab": {
      "name": "Assignment2.ipynb",
      "provenance": [],
      "collapsed_sections": []
    },
    "kernelspec": {
      "name": "python3",
      "display_name": "Python 3"
    }
  },
  "cells": [
    {
      "cell_type": "markdown",
      "metadata": {
        "id": "5y45eX71y_Ti",
        "colab_type": "text"
      },
      "source": [
        "Importing necessary libraries"
      ]
    },
    {
      "cell_type": "code",
      "metadata": {
        "id": "JBL-VvB5nuWx",
        "colab_type": "code",
        "colab": {}
      },
      "source": [
        "import pandas as pd\n",
        "import numpy as np\n",
        "import seaborn as sns\n",
        "from matplotlib import pyplot as plt\n",
        "import sklearn\n",
        "from sklearn import linear_model\n",
        "from sklearn.model_selection import train_test_split\n",
        "from sklearn.linear_model import LinearRegression, RidgeCV, LassoCV, ElasticNetCV\n",
        "from sklearn.metrics import r2_score\n",
        "from sklearn.metrics import mean_squared_error\n",
        "from math import sqrt\n",
        "from sklearn.model_selection import cross_val_score"
      ],
      "execution_count": 0,
      "outputs": []
    },
    {
      "cell_type": "markdown",
      "metadata": {
        "id": "6Q5sgxqFzC_Z",
        "colab_type": "text"
      },
      "source": [
        "Importing our datasets"
      ]
    },
    {
      "cell_type": "code",
      "metadata": {
        "id": "bu_dHm-PoKX4",
        "colab_type": "code",
        "outputId": "f6eb04dc-73cf-480d-f726-563a20173a04",
        "colab": {
          "resources": {
            "http://localhost:8080/nbextensions/google.colab/files.js": {
              "data": "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",
              "ok": true,
              "headers": [
                [
                  "content-type",
                  "application/javascript"
                ]
              ],
              "status": 200,
              "status_text": ""
            }
          },
          "base_uri": "https://localhost:8080/",
          "height": 142
        }
      },
      "source": [
        "from google.colab import files\n",
        "uploaded = files.upload()\n",
        "for fn in uploaded.keys():\n",
        "  print('User uploaded file \"{name}\" with length {length} bytes'.format(name=fn, length=len(uploaded[fn])))"
      ],
      "execution_count": 0,
      "outputs": [
        {
          "output_type": "display_data",
          "data": {
            "text/html": [
              "\n",
              "     <input type=\"file\" id=\"files-ec7f1e61-e776-41c5-8582-0e3548aad741\" name=\"files[]\" multiple disabled />\n",
              "     <output id=\"result-ec7f1e61-e776-41c5-8582-0e3548aad741\">\n",
              "      Upload widget is only available when the cell has been executed in the\n",
              "      current browser session. Please rerun this cell to enable.\n",
              "      </output>\n",
              "      <script src=\"/nbextensions/google.colab/files.js\"></script> "
            ],
            "text/plain": [
              "<IPython.core.display.HTML object>"
            ]
          },
          "metadata": {
            "tags": []
          }
        },
        {
          "output_type": "stream",
          "text": [
            "Saving test.csv to test (3).csv\n",
            "Saving train.csv to train (3).csv\n",
            "User uploaded file \"test.csv\" with length 451405 bytes\n",
            "User uploaded file \"train.csv\" with length 460676 bytes\n"
          ],
          "name": "stdout"
        }
      ]
    },
    {
      "cell_type": "markdown",
      "metadata": {
        "id": "KgSYpCctNRmg",
        "colab_type": "text"
      },
      "source": [
        "Preparing our dataset,\n",
        "Merging Train and Test into one"
      ]
    },
    {
      "cell_type": "code",
      "metadata": {
        "id": "JU9Y6amNpGba",
        "colab_type": "code",
        "colab": {}
      },
      "source": [
        "kaggle_train = pd.read_csv('train.csv') \n",
        "kaggle_test = pd.read_csv('test.csv')\n",
        "da=pd.concat([kaggle_train,kaggle_test]).reset_index()"
      ],
      "execution_count": 0,
      "outputs": []
    },
    {
      "cell_type": "code",
      "metadata": {
        "id": "6vi0-R3VqsnB",
        "colab_type": "code",
        "colab": {}
      },
      "source": [
        "noSalePrice = [a for a in da.columns if a!='SalePrice']\n",
        "da[noSalePrice] = da[noSalePrice].fillna(da[noSalePrice].mean())"
      ],
      "execution_count": 0,
      "outputs": []
    },
    {
      "cell_type": "markdown",
      "metadata": {
        "id": "oCq1Fq9Fq1qp",
        "colab_type": "text"
      },
      "source": [
        "Dealing with NaNs of numerical variables"
      ]
    },
    {
      "cell_type": "markdown",
      "metadata": {
        "id": "8y5P_CPxrQef",
        "colab_type": "text"
      },
      "source": [
        "Lets see and delete outliers associated with independent variables i.e, OverallQual, GrLivArea, TotalBsmtSF..\n",
        "Because Outliers are exceptional data which disturb us to design a model based on data which follows a pattern"
      ]
    },
    {
      "cell_type": "code",
      "metadata": {
        "id": "5z9-z6DHrjlE",
        "colab_type": "code",
        "outputId": "b77daccc-b9d7-4c9d-88ea-83950b4f6316",
        "colab": {
          "base_uri": "https://localhost:8080/",
          "height": 689
        }
      },
      "source": [
        "da.plot.scatter(x='GrLivArea',y='SalePrice',title='SalePrice Vs GrLivArea',figsize=(3,3));\n",
        "da.plot.scatter(x='OverallQual',y='SalePrice',title='SalePrice Vs OverallQual',figsize=(3,3));\n",
        "da.plot.scatter(x='TotalBsmtSF',y='SalePrice',title='SalePrice Vs TotalBsmtSF',figsize=(3,3));"
      ],
      "execution_count": 0,
      "outputs": [
        {
          "output_type": "display_data",
          "data": {
            "image/png": "[encoded data removed]",
            "text/plain": [
              "<Figure size 216x216 with 1 Axes>"
            ]
          },
          "metadata": {
            "tags": [],
            "needs_background": "light"
          }
        },
        {
          "output_type": "display_data",
          "data": {
            "image/png": "[encoded data removed]",
            "text/plain": [
              "<Figure size 216x216 with 1 Axes>"
            ]
          },
          "metadata": {
            "tags": [],
            "needs_background": "light"
          }
        },
        {
          "output_type": "display_data",
          "data": {
            "image/png": "[encoded data removed]",
            "text/plain": [
              "<Figure size 216x216 with 1 Axes>"
            ]
          },
          "metadata": {
            "tags": [],
            "needs_background": "light"
          }
        }
      ]
    },
    {
      "cell_type": "markdown",
      "metadata": {
        "id": "fBFYfoKWtNXA",
        "colab_type": "text"
      },
      "source": [
        "Lets remove the outliers which disturbs our predictions"
      ]
    },
    {
      "cell_type": "code",
      "metadata": {
        "id": "J7uK8PFrr8Ow",
        "colab_type": "code",
        "colab": {}
      },
      "source": [
        "da.drop(da[(da['SalePrice']<250000)&(da['GrLivArea']>4000)].index,inplace=True)\n",
        "da.drop(da[(da['SalePrice']<500000)&(da['TotalBsmtSF']>3000)].index,inplace=True)\n",
        "da.drop(da[(da['SalePrice']>700000)&(da['TotalBsmtSF']>2000)].index,inplace=True)\n",
        "da.drop(da[(da['SalePrice']>200000)&(da['OverallQual']==4)].index,inplace=True)\n",
        "da.drop(da[(da['SalePrice']>500000)&(da['OverallQual']==8)].index,inplace=True)"
      ],
      "execution_count": 0,
      "outputs": []
    },
    {
      "cell_type": "markdown",
      "metadata": {
        "id": "3THxLAlft9pn",
        "colab_type": "text"
      },
      "source": [
        "These are plots after removing outliers"
      ]
    },
    {
      "cell_type": "code",
      "metadata": {
        "id": "yAXtU0BKtANx",
        "colab_type": "code",
        "outputId": "c9741c22-b98e-41e8-c16f-78f6a57d222d",
        "colab": {
          "base_uri": "https://localhost:8080/",
          "height": 689
        }
      },
      "source": [
        "da.plot.scatter(x='GrLivArea',y='SalePrice',title='SalePrice Vs GrLivArea',figsize=(3,3));\n",
        "da.plot.scatter(x='OverallQual',y='SalePrice',title='SalePrice Vs OverallQual',figsize=(3,3));\n",
        "da.plot.scatter(x='TotalBsmtSF',y='SalePrice',title='SalePrice Vs TotalBsmtSF',figsize=(3,3));"
      ],
      "execution_count": 0,
      "outputs": [
        {
          "output_type": "display_data",
          "data": {
            "image/png": "[encoded data removed]",
            "text/plain": [
              "<Figure size 216x216 with 1 Axes>"
            ]
          },
          "metadata": {
            "tags": [],
            "needs_background": "light"
          }
        },
        {
          "output_type": "display_data",
          "data": {
            "image/png": "[encoded data removed]",
            "text/plain": [
              "<Figure size 216x216 with 1 Axes>"
            ]
          },
          "metadata": {
            "tags": [],
            "needs_background": "light"
          }
        },
        {
          "output_type": "display_data",
          "data": {
            "image/png": "[encoded data removed]",
            "text/plain": [
              "<Figure size 216x216 with 1 Axes>"
            ]
          },
          "metadata": {
            "tags": [],
            "needs_background": "light"
          }
        }
      ]
    },
    {
      "cell_type": "markdown",
      "metadata": {
        "id": "PhIPolvaNmxz",
        "colab_type": "text"
      },
      "source": [
        "We design a list of ind_vars which is a guess that SalePrice mostly depends on these data, Taking many vars will make our model overfitted, So lets use only some of them"
      ]
    },
    {
      "cell_type": "code",
      "metadata": {
        "id": "kqxZfUt2C5GN",
        "colab_type": "code",
        "colab": {}
      },
      "source": [
        "ind_vars=['OverallCond','GrLivArea', 'TotalBsmtSF','GarageArea','YearBuilt','OverallQual','GarageCars']"
      ],
      "execution_count": 0,
      "outputs": []
    },
    {
      "cell_type": "markdown",
      "metadata": {
        "id": "EAa2zSn0P-FR",
        "colab_type": "text"
      },
      "source": [
        "Lets check VIFs to get a clarity of how good our ind_vars are"
      ]
    },
    {
      "cell_type": "code",
      "metadata": {
        "id": "-85oa9CmBi87",
        "colab_type": "code",
        "outputId": "6d17baf1-ad03-41ea-bea8-8479a8045456",
        "colab": {
          "base_uri": "https://localhost:8080/",
          "height": 297
        }
      },
      "source": [
        "from patsy import dmatrices\n",
        "Y, X = dmatrices('SalePrice ~ GrLivArea+TotalBsmtSF+OverallQual+GarageArea+YearBuilt+OverallCond+GarageCars', da, return_type='dataframe')\n",
        "from statsmodels.stats.outliers_influence import variance_inflation_factor\n",
        "vif = pd.DataFrame()\n",
        "vif[\"VIF Factor\"] = [variance_inflation_factor(X.values, i) for i in range(X.shape[1])]\n",
        "vif[\"features\"] = X.columns\n",
        "vif"
      ],
      "execution_count": 0,
      "outputs": [
        {
          "output_type": "execute_result",
          "data": {
            "text/html": [
              "<div>\n",
              "<style scoped>\n",
              "    .dataframe tbody tr th:only-of-type {\n",
              "        vertical-align: middle;\n",
              "    }\n",
              "\n",
              "    .dataframe tbody tr th {\n",
              "        vertical-align: top;\n",
              "    }\n",
              "\n",
              "    .dataframe thead th {\n",
              "        text-align: right;\n",
              "    }\n",
              "</style>\n",
              "<table border=\"1\" class=\"dataframe\">\n",
              "  <thead>\n",
              "    <tr style=\"text-align: right;\">\n",
              "      <th></th>\n",
              "      <th>VIF Factor</th>\n",
              "      <th>features</th>\n",
              "    </tr>\n",
              "  </thead>\n",
              "  <tbody>\n",
              "    <tr>\n",
              "      <th>0</th>\n",
              "      <td>8753.636009</td>\n",
              "      <td>Intercept</td>\n",
              "    </tr>\n",
              "    <tr>\n",
              "      <th>1</th>\n",
              "      <td>1.762274</td>\n",
              "      <td>GrLivArea</td>\n",
              "    </tr>\n",
              "    <tr>\n",
              "      <th>2</th>\n",
              "      <td>1.536368</td>\n",
              "      <td>TotalBsmtSF</td>\n",
              "    </tr>\n",
              "    <tr>\n",
              "      <th>3</th>\n",
              "      <td>2.656782</td>\n",
              "      <td>OverallQual</td>\n",
              "    </tr>\n",
              "    <tr>\n",
              "      <th>4</th>\n",
              "      <td>4.846000</td>\n",
              "      <td>GarageArea</td>\n",
              "    </tr>\n",
              "    <tr>\n",
              "      <th>5</th>\n",
              "      <td>2.092689</td>\n",
              "      <td>YearBuilt</td>\n",
              "    </tr>\n",
              "    <tr>\n",
              "      <th>6</th>\n",
              "      <td>1.228420</td>\n",
              "      <td>OverallCond</td>\n",
              "    </tr>\n",
              "    <tr>\n",
              "      <th>7</th>\n",
              "      <td>5.338542</td>\n",
              "      <td>GarageCars</td>\n",
              "    </tr>\n",
              "  </tbody>\n",
              "</table>\n",
              "</div>"
            ],
            "text/plain": [
              "    VIF Factor     features\n",
              "0  8753.636009    Intercept\n",
              "1     1.762274    GrLivArea\n",
              "2     1.536368  TotalBsmtSF\n",
              "3     2.656782  OverallQual\n",
              "4     4.846000   GarageArea\n",
              "5     2.092689    YearBuilt\n",
              "6     1.228420  OverallCond\n",
              "7     5.338542   GarageCars"
            ]
          },
          "metadata": {
            "tags": []
          },
          "execution_count": 664
        }
      ]
    },
    {
      "cell_type": "code",
      "metadata": {
        "id": "f5RxvFM4wjKx",
        "colab_type": "code",
        "outputId": "baf787d3-c12c-47b9-d9df-b3c603f88922",
        "colab": {
          "base_uri": "https://localhost:8080/",
          "height": 266
        }
      },
      "source": [
        "dac = da[['SalePrice','OverallCond','GrLivArea', 'TotalBsmtSF','GarageArea','YearBuilt','OverallQual','GarageCars']].corr()\n",
        "dac[['SalePrice']][1:]"
      ],
      "execution_count": 0,
      "outputs": [
        {
          "output_type": "execute_result",
          "data": {
            "text/html": [
              "<div>\n",
              "<style scoped>\n",
              "    .dataframe tbody tr th:only-of-type {\n",
              "        vertical-align: middle;\n",
              "    }\n",
              "\n",
              "    .dataframe tbody tr th {\n",
              "        vertical-align: top;\n",
              "    }\n",
              "\n",
              "    .dataframe thead th {\n",
              "        text-align: right;\n",
              "    }\n",
              "</style>\n",
              "<table border=\"1\" class=\"dataframe\">\n",
              "  <thead>\n",
              "    <tr style=\"text-align: right;\">\n",
              "      <th></th>\n",
              "      <th>SalePrice</th>\n",
              "    </tr>\n",
              "  </thead>\n",
              "  <tbody>\n",
              "    <tr>\n",
              "      <th>OverallCond</th>\n",
              "      <td>-0.078134</td>\n",
              "    </tr>\n",
              "    <tr>\n",
              "      <th>GrLivArea</th>\n",
              "      <td>0.715647</td>\n",
              "    </tr>\n",
              "    <tr>\n",
              "      <th>TotalBsmtSF</th>\n",
              "      <td>0.645359</td>\n",
              "    </tr>\n",
              "    <tr>\n",
              "      <th>GarageArea</th>\n",
              "      <td>0.637877</td>\n",
              "    </tr>\n",
              "    <tr>\n",
              "      <th>YearBuilt</th>\n",
              "      <td>0.536851</td>\n",
              "    </tr>\n",
              "    <tr>\n",
              "      <th>OverallQual</th>\n",
              "      <td>0.805036</td>\n",
              "    </tr>\n",
              "    <tr>\n",
              "      <th>GarageCars</th>\n",
              "      <td>0.650657</td>\n",
              "    </tr>\n",
              "  </tbody>\n",
              "</table>\n",
              "</div>"
            ],
            "text/plain": [
              "             SalePrice\n",
              "OverallCond  -0.078134\n",
              "GrLivArea     0.715647\n",
              "TotalBsmtSF   0.645359\n",
              "GarageArea    0.637877\n",
              "YearBuilt     0.536851\n",
              "OverallQual   0.805036\n",
              "GarageCars    0.650657"
            ]
          },
          "metadata": {
            "tags": []
          },
          "execution_count": 665
        }
      ]
    },
    {
      "cell_type": "markdown",
      "metadata": {
        "id": "2Ee9-iufPvDK",
        "colab_type": "text"
      },
      "source": [
        "This list has been modified by checking VIFs, corr values..\n",
        "So lets use these to predict SalePrice"
      ]
    },
    {
      "cell_type": "code",
      "metadata": {
        "id": "NOFiU03Yfmky",
        "colab_type": "code",
        "colab": {}
      },
      "source": [
        "da['SalePrice'] = np.log1p(da['SalePrice'])"
      ],
      "execution_count": 0,
      "outputs": []
    },
    {
      "cell_type": "markdown",
      "metadata": {
        "id": "VRuXCH1tQI7C",
        "colab_type": "text"
      },
      "source": [
        "By using this we can reduce skewness"
      ]
    },
    {
      "cell_type": "code",
      "metadata": {
        "id": "PESM7zVj3_4E",
        "colab_type": "code",
        "colab": {}
      },
      "source": [
        "Xtrain,Xtest,Ytrain,Ytest=train_test_split(da[:1452][ind_vars],da[:1452]['SalePrice'],test_size=0.33,random_state=42)"
      ],
      "execution_count": 0,
      "outputs": []
    },
    {
      "cell_type": "markdown",
      "metadata": {
        "id": "i0gUyeDsQSqi",
        "colab_type": "text"
      },
      "source": [
        "Dividing our train dataset to feed and check our model by using train_test_split function"
      ]
    },
    {
      "cell_type": "markdown",
      "metadata": {
        "id": "YYuOOam8If4A",
        "colab_type": "text"
      },
      "source": [
        "## **LinearRegression**"
      ]
    },
    {
      "cell_type": "code",
      "metadata": {
        "id": "TE1YgW1x4udB",
        "colab_type": "code",
        "outputId": "09ad3450-cb69-400b-d8c8-7c46c6e8d484",
        "colab": {
          "base_uri": "https://localhost:8080/",
          "height": 119
        }
      },
      "source": [
        "model=LinearRegression()\n",
        "model.fit(Xtrain,Ytrain)\n",
        "Ypred1=model.predict(Xtest)\n",
        "dff=pd.DataFrame({\"Predicted Values\":np.expm1(Ypred1),\"     Values should have been predicted\":np.expm1(Ytest.tolist())})\n",
        "print(dff.head())"
      ],
      "execution_count": 0,
      "outputs": [
        {
          "output_type": "stream",
          "text": [
            "   Predicted Values       Values should have been predicted\n",
            "0     183247.414373                                196000.0\n",
            "1     122139.132121                                135000.0\n",
            "2     196484.835638                                136905.0\n",
            "3     293876.935307                                147000.0\n",
            "4      43374.796161                                 39300.0\n"
          ],
          "name": "stdout"
        }
      ]
    },
    {
      "cell_type": "markdown",
      "metadata": {
        "id": "9_XVnbrdTUxz",
        "colab_type": "text"
      },
      "source": [
        "As we are working with more independent variables, its better to use adjusted r2, not much difference by the way"
      ]
    },
    {
      "cell_type": "code",
      "metadata": {
        "id": "t7lhIdkmTFSY",
        "colab_type": "code",
        "outputId": "e8b3d71d-466a-4cae-a5bd-5f2e4cc28fb3",
        "colab": {
          "base_uri": "https://localhost:8080/",
          "height": 68
        }
      },
      "source": [
        "def adjusted_r2(Xtest,r2):\n",
        "  n=len(Xtest)\n",
        "  p=len(Xtest.columns)\n",
        "  a_r2=1 - (1-r2)*(n-1)/(n-p-1)\n",
        "  return a_r2\n",
        "R2_1=r2_score(Ytest,Ypred1)\n",
        "adj_r2_1=adjusted_r2(Xtest,R2_1)\n",
        "print(\"R2 value : {}\".format(R2_1))\n",
        "print(\"Adjusted R2 value : {}\".format(adj_r2_1))\n",
        "print(\"MSE : {}\".format(sqrt(mean_squared_error(Ytest,Ypred1))))"
      ],
      "execution_count": 0,
      "outputs": [
        {
          "output_type": "stream",
          "text": [
            "R2 value : 0.8719487474785019\n",
            "Adjusted R2 value : 0.8700496822928018\n",
            "MSE : 0.14481192390706368\n"
          ],
          "name": "stdout"
        }
      ]
    },
    {
      "cell_type": "markdown",
      "metadata": {
        "id": "b_P3CoTrHaTn",
        "colab_type": "text"
      },
      "source": [
        "### LassoCV"
      ]
    },
    {
      "cell_type": "code",
      "metadata": {
        "id": "ymho7ChQHZxL",
        "colab_type": "code",
        "outputId": "0ce2a6c2-b95a-4580-f5e8-0c447ab4c75e",
        "colab": {
          "base_uri": "https://localhost:8080/",
          "height": 68
        }
      },
      "source": [
        "def adjusted_r2(Xtest,r2):\n",
        "  n=len(Xtest)\n",
        "  p=len(Xtest.columns)\n",
        "  a_r2=1 - (1-r2)*(n-1)/(n-p-1)\n",
        "  return a_r2\n",
        "Ls1=LassoCV()\n",
        "Ls1.fit(Xtrain,Ytrain)\n",
        "Ypred2=Ls1.predict(Xtest)\n",
        "R2_2=r2_score(Ytest,Ypred2)\n",
        "adj_r2_2=adjusted_r2(Xtest,R2_2)\n",
        "print(\"R2 value : {}\".format(R2_2))\n",
        "print(\"Adjusted R2 value : {}\".format(adj_r2_2))\n",
        "print(\"Error : {}\".format(sqrt(mean_squared_error(Ytest,Ypred2))))"
      ],
      "execution_count": 0,
      "outputs": [
        {
          "output_type": "stream",
          "text": [
            "R2 value : 0.8182172036551459\n",
            "Adjusted R2 value : 0.8155212723534214\n",
            "Error : 0.1725396043897892\n"
          ],
          "name": "stdout"
        }
      ]
    },
    {
      "cell_type": "markdown",
      "metadata": {
        "id": "8D5pkDlKJbVC",
        "colab_type": "text"
      },
      "source": [
        "### RidgeCV"
      ]
    },
    {
      "cell_type": "code",
      "metadata": {
        "id": "o9y85shBI3qu",
        "colab_type": "code",
        "outputId": "c3455949-7d11-4e7a-9219-160802d35f40",
        "colab": {
          "base_uri": "https://localhost:8080/",
          "height": 68
        }
      },
      "source": [
        "Rr=RidgeCV()\n",
        "Rr.fit(Xtrain,Ytrain)\n",
        "Ypred3=Rr.predict(Xtest)\n",
        "R2_3=r2_score(Ytest,Ypred3)\n",
        "adj_r2_3=adjusted_r2(Xtest,R2_3)\n",
        "print(\"R2 value : {}\".format(R2_3))\n",
        "print(\"Adjusted R2 value : {}\".format(adj_r2_3))\n",
        "print(\"Error : {}\".format(sqrt(mean_squared_error(Ytest,Ypred3))))"
      ],
      "execution_count": 0,
      "outputs": [
        {
          "output_type": "stream",
          "text": [
            "R2 value : 0.8720429942481427\n",
            "Adjusted R2 value : 0.8701453267899584\n",
            "Error : 0.14475862271726767\n"
          ],
          "name": "stdout"
        }
      ]
    },
    {
      "cell_type": "markdown",
      "metadata": {
        "id": "cRVdQXu1J8pP",
        "colab_type": "text"
      },
      "source": [
        "### ElasticNetCV"
      ]
    },
    {
      "cell_type": "code",
      "metadata": {
        "id": "sxUK3MMUJrbZ",
        "colab_type": "code",
        "outputId": "55bdf895-57ca-4299-8d1c-3ea84c73a080",
        "colab": {
          "base_uri": "https://localhost:8080/",
          "height": 68
        }
      },
      "source": [
        "EN1 = ElasticNetCV(l1_ratio=np.linspace(0.1, 1.0, 5))\n",
        "EN1.fit(Xtrain,Ytrain)\n",
        "Ypred4=EN1.predict(Xtest)\n",
        "R2_4=r2_score(Ytest,Ypred4)\n",
        "adj_r2_4=adjusted_r2(Xtest,R2_4)\n",
        "print(\"R2 value : {}\".format(R2_4))\n",
        "print(\"Adjusted R2 value : {}\".format(adj_r2_4))\n",
        "print(\"Error : {}\".format(sqrt(mean_squared_error(Ytest,Ypred4))))"
      ],
      "execution_count": 0,
      "outputs": [
        {
          "output_type": "stream",
          "text": [
            "R2 value : 0.8182172036551459\n",
            "Adjusted R2 value : 0.8155212723534214\n",
            "Error : 0.1725396043897892\n"
          ],
          "name": "stdout"
        }
      ]
    },
    {
      "cell_type": "markdown",
      "metadata": {
        "id": "l1BDLk-DNsnO",
        "colab_type": "text"
      },
      "source": [
        "By observing Errors and R2 values, we come to a conclusion to use RidgeCV model"
      ]
    },
    {
      "cell_type": "markdown",
      "metadata": {
        "id": "3uz8nAPcOL_N",
        "colab_type": "text"
      },
      "source": [
        "Converting our submission into submittable format"
      ]
    },
    {
      "cell_type": "code",
      "metadata": {
        "id": "Ydj18dKLuyXL",
        "colab_type": "code",
        "colab": {}
      },
      "source": [
        "x=da[1452:].drop(['SalePrice'],axis=1)\n",
        "sub=pd.DataFrame({'Id':x.Id,'SalePrice':np.expm1(Rr.predict(x[ind_vars]))})\n",
        "sub.to_csv('final_submission.csv',index=False)\n",
        "from google.colab import files\n",
        "files.download('final_submission.csv')"
      ],
      "execution_count": 0,
      "outputs": []
    },
    {
      "cell_type": "markdown",
      "metadata": {
        "id": "NxpMdE9Ry0wD",
        "colab_type": "text"
      },
      "source": [
        "Thereby Submitting our predictions"
      ]
    },
    {
      "cell_type": "markdown",
      "metadata": {
        "id": "H1-ba59vsloP",
        "colab_type": "text"
      },
      "source": [
        "References:\n",
        "\n",
        "https://www.kaggle.com/duverj/tutorial-linear-regression\n",
        "https://www.kaggle.com/rbyron/simple-linear-regression-models\n",
        "\n"
      ]
    }
  ]
}